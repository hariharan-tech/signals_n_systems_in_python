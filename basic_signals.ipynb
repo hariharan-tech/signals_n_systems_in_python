{
 "cells": [
  {
   "cell_type": "markdown",
   "id": "0fb36cdb",
   "metadata": {},
   "source": [
    "# Signals and Systems, but in PYTHON :)"
   ]
  },
  {
   "cell_type": "markdown",
   "id": "ebba59e0",
   "metadata": {},
   "source": [
    "Continous signal: is continous over the given time domain and the amplitude of the signal is known for all time in the domain.\n",
    "\n",
    "Discrete signal: 's amplitude is taken at discrete time intervals like in few seconds. \n",
    "In this analysis, we will consider the rate of taking samples to be 0.2 / sec (meaning, for a discrete signal we would have values defined every 0.2 seconds according to given input time domain."
   ]
  },
  {
   "cell_type": "markdown",
   "id": "db2c16c7",
   "metadata": {},
   "source": [
    "#### Lets us first import the required libraries "
   ]
  },
  {
   "cell_type": "code",
   "execution_count": 4,
   "id": "002c032f",
   "metadata": {},
   "outputs": [],
   "source": [
    "import numpy as np\n",
    "import matplotlib.pyplot as plt"
   ]
  },
  {
   "cell_type": "markdown",
   "id": "210268cc",
   "metadata": {},
   "source": [
    "## Unit impulse function : δ(t)"
   ]
  },
  {
   "cell_type": "markdown",
   "id": "4ecc8e83",
   "metadata": {},
   "source": [
    "An unit impulse function δ(t) is defined as having an amplitude of 1 at t=0s and 0 amplitude for every value other than t=0s.\n",
    "\n",
    "How the signals arrives? \n",
    "\n",
    "(type that later with fraction html stuff)"
   ]
  },
  {
   "cell_type": "code",
   "execution_count": 49,
   "id": "cbb37fea",
   "metadata": {},
   "outputs": [
    {
     "data": {
      "image/png": "[encoded data removed]",
      "text/plain": [
       "<Figure size 936x216 with 2 Axes>"
      ]
     },
     "metadata": {
      "needs_background": "light"
     },
     "output_type": "display_data"
    }
   ],
   "source": [
    "fig, (axs1 , axs2) = plt.subplots(1, 2, figsize=(13,3))\n",
    "t = np.linspace(-2,2,70)\n",
    "amp = np.zeros(70)\n",
    "amp[34]=1\n",
    "axs1.scatter(t,amp,color='r')\n",
    "\n",
    "t = np.linspace(-2,2,5)\n",
    "amp= np.zeros(5)\n",
    "amp[2]=1\n",
    "axs2.scatter(t,amp,color='r')\n",
    "plt.arrow(x=0,y=0,dx=0,dy=0.94,width=0.015)\n",
    "fig.suptitle('Unit Impulse Function', y=1.03, fontsize=25)\n",
    "plt.show()"
   ]
  },
  {
   "cell_type": "markdown",
   "id": "5fff4884",
   "metadata": {},
   "source": [
    "Now these are the continous time domain and discrete time domain unit impulse function. As you can see the value of the signal at t=0s is 1units in amplitude."
   ]
  },
  {
   "cell_type": "markdown",
   "id": "0f6b0f0e",
   "metadata": {},
   "source": [
    "## Step signal or step function : "
   ]
  },
  {
   "cell_type": "markdown",
   "id": "93b83d7b",
   "metadata": {},
   "source": [
    "coming soon!"
   ]
  }
 ],
 "metadata": {
  "kernelspec": {
   "display_name": "Python 3 (ipykernel)",
   "language": "python",
   "name": "python3"
  },
  "language_info": {
   "codemirror_mode": {
    "name": "ipython",
    "version": 3
   },
   "file_extension": ".py",
   "mimetype": "text/x-python",
   "name": "python",
   "nbconvert_exporter": "python",
   "pygments_lexer": "ipython3",
   "version": "3.7.6"
  }
 },
 "nbformat": 4,
 "nbformat_minor": 5
}
