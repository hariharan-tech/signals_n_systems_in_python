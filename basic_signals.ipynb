{
 "cells": [
  {
   "cell_type": "markdown",
   "id": "0fb36cdb",
   "metadata": {},
   "source": [
    "# Signals and Systems, but in PYTHON :)"
   ]
  },
  {
   "cell_type": "markdown",
   "id": "ebba59e0",
   "metadata": {},
   "source": [
    "Continous signal: is continous over the given time domain and the amplitude of the signal is known for all time in the domain.\n",
    "\n",
    "Discrete signal: 's amplitude is taken at discrete time intervals like in few seconds. \n",
    "In this analysis, we will consider the rate of taking samples to be 0.2 / sec (meaning, for a discrete signal we would have values defined every 0.2 seconds according to given input time domain."
   ]
  },
  {
   "cell_type": "markdown",
   "id": "db2c16c7",
   "metadata": {},
   "source": [
    "#### Lets us first import the required libraries "
   ]
  },
  {
   "cell_type": "code",
   "execution_count": 2,
   "id": "002c032f",
   "metadata": {},
   "outputs": [],
   "source": [
    "import numpy as np\n",
    "import matplotlib.pyplot as plt"
   ]
  },
  {
   "cell_type": "markdown",
   "id": "210268cc",
   "metadata": {},
   "source": [
    "## Unit impulse function : δ(t)"
   ]
  },
  {
   "cell_type": "markdown",
   "id": "4ecc8e83",
   "metadata": {},
   "source": [
    "An unit impulse function δ(t) is defined as having an amplitude of 1 at t=0s and 0 amplitude for every value other than t=0s.\n",
    "\n",
    "How the signals arrives? \n",
    "\n",
    "(type that later with fraction html stuff)"
   ]
  },
  {
   "cell_type": "markdown",
   "id": "1c0d1884",
   "metadata": {},
   "source": [
    "### Continous time domain unit impulse function:"
   ]
  },
  {
   "cell_type": "code",
   "execution_count": 24,
   "id": "cbb37fea",
   "metadata": {},
   "outputs": [
    {
     "data": {
      "text/plain": [
       "<matplotlib.collections.PathCollection at 0x2bc16957a48>"
      ]
     },
     "execution_count": 24,
     "metadata": {},
     "output_type": "execute_result"
    },
    {
     "data": {
      "image/png": "[encoded data removed]",
      "text/plain": [
       "<Figure size 432x288 with 1 Axes>"
      ]
     },
     "metadata": {
      "needs_background": "light"
     },
     "output_type": "display_data"
    }
   ],
   "source": [
    "t = np.linspace(-2,2,70)\n",
    "amp = np.zeros(70)\n",
    "amp[34]=1\n",
    "plt.scatter(t,amp,color='red')"
   ]
  },
  {
   "cell_type": "markdown",
   "id": "181efeb8",
   "metadata": {},
   "source": [
    "Now this is the continous time domain unit impulse function. As you can see the value of the signal at t=0s is 1units in amplitude. \n",
    "\n",
    "Now lets check for Discrete Time domain."
   ]
  },
  {
   "cell_type": "markdown",
   "id": "87c6d8c9",
   "metadata": {},
   "source": [
    "### Discrete time domain unit impulse function:"
   ]
  },
  {
   "cell_type": "code",
   "execution_count": 40,
   "id": "da3c1584",
   "metadata": {},
   "outputs": [
    {
     "data": {
      "text/plain": [
       "<matplotlib.patches.FancyArrow at 0x2bc180f8048>"
      ]
     },
     "execution_count": 40,
     "metadata": {},
     "output_type": "execute_result"
    },
    {
     "data": {
      "image/png": "[encoded data removed]",
      "text/plain": [
       "<Figure size 432x288 with 1 Axes>"
      ]
     },
     "metadata": {
      "needs_background": "light"
     },
     "output_type": "display_data"
    }
   ],
   "source": [
    "t = np.linspace(-2,2,5)\n",
    "amp = np.zeros(5)\n",
    "amp[2]=1\n",
    "plt.scatter(t,amp,color='red')\n",
    "plt.arrow(x=0,y=0,dx=0,dy=0.94,width=0.015)"
   ]
  },
  {
   "cell_type": "code",
   "execution_count": null,
   "id": "5152e3b2",
   "metadata": {},
   "outputs": [],
   "source": []
  }
 ],
 "metadata": {
  "kernelspec": {
   "display_name": "Python 3 (ipykernel)",
   "language": "python",
   "name": "python3"
  },
  "language_info": {
   "codemirror_mode": {
    "name": "ipython",
    "version": 3
   },
   "file_extension": ".py",
   "mimetype": "text/x-python",
   "name": "python",
   "nbconvert_exporter": "python",
   "pygments_lexer": "ipython3",
   "version": "3.7.6"
  }
 },
 "nbformat": 4,
 "nbformat_minor": 5
}
